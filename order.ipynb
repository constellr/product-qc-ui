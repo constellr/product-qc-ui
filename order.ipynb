{
 "cells": [
  {
   "cell_type": "code",
   "execution_count": 25,
   "metadata": {},
   "outputs": [
    {
     "name": "stdout",
     "output_type": "stream",
     "text": [
      "SELECTED AOI:customer_id: ead03d6d-89e5-42c9-bd55-df5ed1851270\n",
      "customer_name: bayer-europe\n",
      "name: test-demo-bayer-emea-cluster1\n"
     ]
    }
   ],
   "source": [
    "import requests\n",
    "import pandas as pd\n",
    "\n",
    "url = \"http://user-segment.constellr.internal\"\n",
    "\n",
    "headers = {\n",
    "    \"accept\": \"application/json\",\n",
    "    \"access_token\": \"test_api_key\",\n",
    "}\n",
    "\n",
    "response = requests.get(f\"{url}/areas-of-interest\", headers=headers)\n",
    "\n",
    "df = pd.DataFrame(response.json())\n",
    "# gdf[\"geometry\"] = gdf[\"area_of_interest\"].apply(shape)\n",
    "# gdf.crs = 4326\n",
    "\n",
    "# Get all customers\n",
    "response = requests.get(f\"{url}/customers\", headers=headers)\n",
    "customers = response.json()\n",
    "customers_df = pd.DataFrame(customers)\n",
    "df = pd.merge(df, customers_df, on=\"customer_id\", how=\"left\")\n",
    "\n",
    "\n",
    "aoi = df[df[\"name\"] == \"test-demo-bayer-emea-cluster1\"].iloc[0].to_dict()\n",
    "\n",
    "print(\n",
    "    \"SELECTED AOI:\"\n",
    "    \"customer_id: \" + aoi[\"customer_id\"],\n",
    "    \"customer_name: \" + aoi[\"customer_name\"],\n",
    "    \"name: \" + aoi[\"name\"],\n",
    "    sep=\"\\n\"\n",
    ")"
   ]
  },
  {
   "cell_type": "code",
   "execution_count": 3,
   "metadata": {},
   "outputs": [],
   "source": [
    "import json\n",
    "import requests\n",
    "\n",
    "ARGO_SERVER_ADDRESS = \"http://argo.test.software.internal\"\n",
    "\n",
    "def place_order(namespace: str, workflow_template_name: str, order_params: dict):\n",
    "\n",
    "    data = {\n",
    "        \"resourceKind\": \"WorkflowTemplate\",\n",
    "        \"resourceName\": workflow_template_name,\n",
    "        \"submitOptions\": {\n",
    "            \"parameters\": [f\"{key}={value}\" for key, value in order_params.items()]\n",
    "        },\n",
    "    }\n",
    "\n",
    "    headers = {\"Content-Type\": \"application/json\"}\n",
    "    submit_url = f\"{ARGO_SERVER_ADDRESS}/api/v1/workflows/{namespace}/submit\"\n",
    "\n",
    "    response = requests.post(submit_url, json=data, headers=headers)\n",
    "    response.raise_for_status()\n",
    "\n",
    "    response_json = response.json()\n",
    "    workflow_name = response_json[\"metadata\"][\"name\"]\n",
    "    return workflow_name\n",
    "\n",
    "\n",
    "def print_workflow_url(namespace: str, workflow_name: str):\n",
    "    print(f\"{ARGO_SERVER_ADDRESS}/workflows/{namespace}/{workflow_name}\")"
   ]
  },
  {
   "cell_type": "code",
   "execution_count": null,
   "metadata": {},
   "outputs": [],
   "source": [
    "namespace = \"lst30-pipeline\"\n",
    "workflow_template_name = \"lst30-pipeline-v0.1.0\"\n",
    "\n",
    "order_params = {\n",
    "    \"start-datetime\": \"2023-07-24T00:00:00Z\",\n",
    "    \"end-datetime\": \"2023-07-24T23:59:59Z\",\n",
    "    \"area-of-interest\": aoi[\"area_of_interest\"],\n",
    "    \"maximum-cloud-cover\": 75,\n",
    "    \"maximum-sun-elevation\": 90,\n",
    "    \"minimum-sun-elevation\": 10,\n",
    "    \"source\": \"landsat\",  # or \"ecostress\", or \"all\"\n",
    "    \"atm-source\": \"ERA5\",  # or CAMS\n",
    "}\n",
    "\n",
    "# the AOI must be serialized to a string\n",
    "order_params[\"area-of-interest\"] = json.dumps(order_params[\"area-of-interest\"])"
   ]
  },
  {
   "cell_type": "code",
   "execution_count": null,
   "metadata": {},
   "outputs": [],
   "source": [
    "workflow_name = place_order(namespace, workflow_template_name, order_params)\n",
    "print_workflow_url(namespace, workflow_name)\n",
    "print(workflow_name)"
   ]
  },
  {
   "cell_type": "code",
   "execution_count": null,
   "metadata": {},
   "outputs": [],
   "source": []
  }
 ],
 "metadata": {
  "kernelspec": {
   "display_name": ".venv",
   "language": "python",
   "name": "python3"
  },
  "language_info": {
   "codemirror_mode": {
    "name": "ipython",
    "version": 3
   },
   "file_extension": ".py",
   "mimetype": "text/x-python",
   "name": "python",
   "nbconvert_exporter": "python",
   "pygments_lexer": "ipython3",
   "version": "3.12.4"
  }
 },
 "nbformat": 4,
 "nbformat_minor": 2
}
